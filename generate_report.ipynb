{
 "cells": [
  {
   "cell_type": "code",
   "execution_count": 1,
   "metadata": {},
   "outputs": [],
   "source": [
    "# imports and setup\n",
    "import pandas as pd\n",
    "import numpy as np\n",
    "# from weasyprint import HTML, CSS\n",
    "\n",
    "pop_history_df = pd.read_csv(\"./data.csv\")  # read data from csv\n",
    "pop_history_df.sort_values(['State', 'Year'], inplace=True)  # sort df by State & Year\n",
    "pop_history_df.reset_index(inplace=True)\n",
    "# pop_history_df.head(10)  # display initial df"
   ]
  },
  {
   "cell_type": "code",
   "execution_count": 2,
   "metadata": {},
   "outputs": [],
   "source": [
    "# pivot\n",
    "pop_history_pivot = pop_history_df.pivot(index=\"State\", columns=\"Year\", values=['Population'])\n",
    "# pop_history_pivot.head()"
   ]
  },
  {
   "cell_type": "code",
   "execution_count": 3,
   "metadata": {},
   "outputs": [
    {
     "name": "stderr",
     "output_type": "stream",
     "text": [
      "C:\\Users\\green\\AppData\\Local\\Temp\\ipykernel_27896\\1837448243.py:3: FutureWarning: inplace is deprecated and will be removed in a future version.\n",
      "  pop_pct_change_pivot.columns.set_levels(['pct_change'], level=0, inplace=True)\n"
     ]
    }
   ],
   "source": [
    "# get % change year over year from pivot\n",
    "pop_pct_change_pivot = pop_history_pivot.pct_change(axis='columns',)\n",
    "pop_pct_change_pivot.columns.set_levels(['pct_change'], level=0, inplace=True)\n",
    "# pop_pct_change_pivot.head()"
   ]
  },
  {
   "cell_type": "code",
   "execution_count": 4,
   "metadata": {},
   "outputs": [],
   "source": [
    "# reshape/melt pivot table to match original dataframe\n",
    "pop_pct_change_df =  pop_pct_change_pivot.melt(ignore_index=False).rename(columns={\"value\": \"pct_change\"})[['Year', 'pct_change']]\n",
    "pop_pct_change_df = pop_pct_change_df.reset_index().sort_values(['State', 'Year']).reset_index()\n",
    "# pop_pct_change_df.head(10)"
   ]
  },
  {
   "cell_type": "code",
   "execution_count": 5,
   "metadata": {},
   "outputs": [],
   "source": [
    "# function to produce a set of the prime factors of a number\n",
    "def calculate_prime_factors(n):\n",
    "    prime_factors = set()\n",
    "    if n % 2 == 0:\n",
    "        prime_factors.add(2)\n",
    "    while n % 2 == 0:\n",
    "        n = n // 2\n",
    "        if n == 1:\n",
    "            return prime_factors\n",
    "    for factor in range(3, n + 1, 2):\n",
    "        if n % factor == 0:\n",
    "            prime_factors.add(factor)\n",
    "            while n % factor == 0:\n",
    "                n = n // factor\n",
    "                if n == 1:\n",
    "                    return prime_factors"
   ]
  },
  {
   "cell_type": "code",
   "execution_count": 6,
   "metadata": {},
   "outputs": [],
   "source": [
    "# update original table with % change\n",
    "pop_history_df[\"pct_change\"] = pop_pct_change_df[\"pct_change\"]\n",
    "pop_history_pivot = pop_history_df.pivot(index=[\"State\"], \n",
    "                                         columns=[\"Year\"], \n",
    "                                         values=['Population', 'pct_change'])\n"
   ]
  },
  {
   "cell_type": "code",
   "execution_count": 7,
   "metadata": {},
   "outputs": [],
   "source": [
    "\n",
    "# generate table data array with string formatting\n",
    "years = sorted(list(set(pop_history_df.Year)))\n",
    "header_table_row = ['State Name'] + years + [f'{years[-1]} Factors']\n",
    "data_table_array = []\n",
    "# data_table_array.append(header_table_row)\n",
    "for state, row in pop_history_pivot.iterrows():\n",
    "    # print(data_table_array)\n",
    "    new_table_row = [state]\n",
    "    for year in years:\n",
    "        # print(year)\n",
    "        if year == years[0]:\n",
    "            new_table_row += [f\"{int(row['Population', year])}\"]\n",
    "        else:\n",
    "            new_table_row += [f\"{int(row['Population', year])}<br/>({row['pct_change', year]:>0.2%})\"]\n",
    "    prime_factors = calculate_prime_factors(int(row['Population', year]))  # capture the prime factors of the last year of the previous state\n",
    "    prime_factors = list(map(str, sorted(prime_factors))) # sort & convert to strings\n",
    "    new_table_row += [ ';'.join(prime_factors) ]  # format and add to new row\n",
    "    # print(prime_factors)\n",
    "    # print(new_table_row)\n",
    "    data_table_array.append(new_table_row)\n",
    "    pass\n",
    "# print(header_table_row)\n",
    "# data_table_array[0:2]\n"
   ]
  },
  {
   "cell_type": "code",
   "execution_count": 8,
   "metadata": {},
   "outputs": [],
   "source": [
    "# new dataframe from formatted data\n",
    "formatted_df = pd.DataFrame(data=data_table_array, columns=header_table_row)\n",
    "# formatted_df.head(10)"
   ]
  },
  {
   "cell_type": "code",
   "execution_count": 9,
   "metadata": {},
   "outputs": [],
   "source": [
    "\n",
    "# write data to html\n",
    "page_title='UCLA Solution'\n",
    "report_title = 'Population Change Report'\n",
    "report_subtitle = f'from {years[0]} to {years[-1]}'\n",
    "\n",
    "html = f'''\n",
    "    <html>\n",
    "        <head>\n",
    "            <title>{page_title}</title>\n",
    "            <link rel=\"stylesheet\" href=\"./styles.css\">\n",
    "        </head>\n",
    "        <body>\n",
    "            <h1>{report_title}</h1>\n",
    "            <p><i>{report_subtitle}</i></p>\n",
    "            <br/>\n",
    "            {formatted_df.to_html(index=False, escape=False)}\n",
    "        </body>\n",
    "    </html>\n",
    "    '''\n",
    "# 3. Write the html string as an HTML file\n",
    "with open('html_report.html', 'w') as f:\n",
    "    f.write(html)"
   ]
  }
 ],
 "metadata": {
  "kernelspec": {
   "display_name": "base",
   "language": "python",
   "name": "python3"
  },
  "language_info": {
   "codemirror_mode": {
    "name": "ipython",
    "version": 3
   },
   "file_extension": ".py",
   "mimetype": "text/x-python",
   "name": "python",
   "nbconvert_exporter": "python",
   "pygments_lexer": "ipython3",
   "version": "3.9.16"
  },
  "orig_nbformat": 4
 },
 "nbformat": 4,
 "nbformat_minor": 2
}
